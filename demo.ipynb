{
 "cells": [
  {
   "cell_type": "markdown",
   "id": "c2cf0cc3",
   "metadata": {},
   "source": [
    "[![Open In Studio Lab](https://studiolab.sagemaker.aws/studiolab.svg)](https://studiolab.sagemaker.aws/import/github/DeepPSP/bib_lookup/blob/master/demo.ipynb)"
   ]
  },
  {
   "cell_type": "code",
   "execution_count": null,
   "id": "a670140d",
   "metadata": {},
   "outputs": [],
   "source": [
    "!pip install bib-lookup -U"
   ]
  },
  {
   "cell_type": "code",
   "execution_count": null,
   "id": "20aad898",
   "metadata": {},
   "outputs": [],
   "source": [
    "from bib_lookup import BibLookup\n",
    "\n",
    "%load_ext autoreload\n",
    "%autoreload 2"
   ]
  },
  {
   "cell_type": "code",
   "execution_count": null,
   "id": "3e4f393b",
   "metadata": {},
   "outputs": [],
   "source": []
  },
  {
   "cell_type": "code",
   "execution_count": null,
   "id": "fbb3537f",
   "metadata": {},
   "outputs": [],
   "source": [
    "bl = BibLookup(arxiv2doi=False, verbose=0)"
   ]
  },
  {
   "cell_type": "code",
   "execution_count": null,
   "id": "15134834",
   "metadata": {},
   "outputs": [],
   "source": []
  },
  {
   "cell_type": "code",
   "execution_count": null,
   "id": "7a4bf8ac",
   "metadata": {},
   "outputs": [],
   "source": [
    "print(bl(\"10.5281/ZENODO.6435017\"))"
   ]
  },
  {
   "cell_type": "code",
   "execution_count": null,
   "id": "b760968f",
   "metadata": {},
   "outputs": [],
   "source": [
    "len(bl)"
   ]
  },
  {
   "cell_type": "code",
   "execution_count": null,
   "id": "bf419935",
   "metadata": {},
   "outputs": [],
   "source": []
  },
  {
   "cell_type": "code",
   "execution_count": null,
   "id": "a3941a30",
   "metadata": {},
   "outputs": [],
   "source": []
  },
  {
   "cell_type": "code",
   "execution_count": null,
   "id": "ed0e52f5",
   "metadata": {},
   "outputs": [],
   "source": []
  },
  {
   "cell_type": "code",
   "execution_count": null,
   "id": "bfb95cba",
   "metadata": {},
   "outputs": [],
   "source": []
  }
 ],
 "metadata": {
  "kernelspec": {
   "display_name": "Python 3",
   "language": "python",
   "name": "python3"
  },
  "language_info": {
   "codemirror_mode": {
    "name": "ipython",
    "version": 3
   },
   "file_extension": ".py",
   "mimetype": "text/x-python",
   "name": "python",
   "nbconvert_exporter": "python",
   "pygments_lexer": "ipython3",
   "version": "3.6.9"
  }
 },
 "nbformat": 4,
 "nbformat_minor": 5
}
